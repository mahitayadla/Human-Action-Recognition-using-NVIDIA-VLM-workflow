{
  "nbformat": 4,
  "nbformat_minor": 0,
  "metadata": {
    "colab": {
      "provenance": []
    },
    "kernelspec": {
      "name": "python3",
      "display_name": "Python 3"
    },
    "language_info": {
      "name": "python"
    }
  },
  "cells": [
    {
      "cell_type": "markdown",
      "source": [
        "# Track 2: Human Action Recognition using NVIDIA VLM Workflow"
      ],
      "metadata": {
        "id": "zf2pG1lhn4Vg"
      }
    },
    {
      "cell_type": "markdown",
      "source": [
        "\n",
        "API Key: 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"
      ],
      "metadata": {
        "id": "C3AFSBw_0Rv_"
      }
    },
    {
      "cell_type": "code",
      "source": [
        "!pip install gradio"
      ],
      "metadata": {
        "id": "4OAmScluA2dZ",
        "colab": {
          "base_uri": "https://localhost:8080/"
        },
        "collapsed": true,
        "outputId": "c52fad4f-8f7f-4dd4-c367-8fc9f82df5fb"
      },
      "execution_count": null,
      "outputs": [
        {
          "output_type": "stream",
          "name": "stdout",
          "text": [
            "Requirement already satisfied: gradio in /usr/local/lib/python3.10/dist-packages (5.6.0)\n",
            "Requirement already satisfied: aiofiles<24.0,>=22.0 in /usr/local/lib/python3.10/dist-packages (from gradio) (23.2.1)\n",
            "Requirement already satisfied: anyio<5.0,>=3.0 in /usr/local/lib/python3.10/dist-packages (from gradio) (3.7.1)\n",
            "Requirement already satisfied: fastapi<1.0,>=0.115.2 in /usr/local/lib/python3.10/dist-packages (from gradio) (0.115.5)\n",
            "Requirement already satisfied: ffmpy in /usr/local/lib/python3.10/dist-packages (from gradio) (0.4.0)\n",
            "Requirement already satisfied: gradio-client==1.4.3 in /usr/local/lib/python3.10/dist-packages (from gradio) (1.4.3)\n",
            "Requirement already satisfied: httpx>=0.24.1 in /usr/local/lib/python3.10/dist-packages (from gradio) (0.27.2)\n",
            "Requirement already satisfied: huggingface-hub>=0.25.1 in /usr/local/lib/python3.10/dist-packages (from gradio) (0.26.2)\n",
            "Requirement already satisfied: jinja2<4.0 in /usr/local/lib/python3.10/dist-packages (from gradio) (3.1.4)\n",
            "Requirement already satisfied: markupsafe~=2.0 in /usr/local/lib/python3.10/dist-packages (from gradio) (2.1.5)\n",
            "Requirement already satisfied: numpy<3.0,>=1.0 in /usr/local/lib/python3.10/dist-packages (from gradio) (1.26.4)\n",
            "Requirement already satisfied: orjson~=3.0 in /usr/local/lib/python3.10/dist-packages (from gradio) (3.10.11)\n",
            "Requirement already satisfied: packaging in /usr/local/lib/python3.10/dist-packages (from gradio) (24.2)\n",
            "Requirement already satisfied: pandas<3.0,>=1.0 in /usr/local/lib/python3.10/dist-packages (from gradio) (2.2.2)\n",
            "Requirement already satisfied: pillow<12.0,>=8.0 in /usr/local/lib/python3.10/dist-packages (from gradio) (11.0.0)\n",
            "Requirement already satisfied: pydantic>=2.0 in /usr/local/lib/python3.10/dist-packages (from gradio) (2.9.2)\n",
            "Requirement already satisfied: pydub in /usr/local/lib/python3.10/dist-packages (from gradio) (0.25.1)\n",
            "Requirement already satisfied: python-multipart==0.0.12 in /usr/local/lib/python3.10/dist-packages (from gradio) (0.0.12)\n",
            "Requirement already satisfied: pyyaml<7.0,>=5.0 in /usr/local/lib/python3.10/dist-packages (from gradio) (6.0.2)\n",
            "Requirement already satisfied: ruff>=0.2.2 in /usr/local/lib/python3.10/dist-packages (from gradio) (0.8.0)\n",
            "Requirement already satisfied: safehttpx<1.0,>=0.1.1 in /usr/local/lib/python3.10/dist-packages (from gradio) (0.1.1)\n",
            "Requirement already satisfied: semantic-version~=2.0 in /usr/local/lib/python3.10/dist-packages (from gradio) (2.10.0)\n",
            "Requirement already satisfied: starlette<1.0,>=0.40.0 in /usr/local/lib/python3.10/dist-packages (from gradio) (0.41.3)\n",
            "Requirement already satisfied: tomlkit==0.12.0 in /usr/local/lib/python3.10/dist-packages (from gradio) (0.12.0)\n",
            "Requirement already satisfied: typer<1.0,>=0.12 in /usr/local/lib/python3.10/dist-packages (from gradio) (0.13.0)\n",
            "Requirement already satisfied: typing-extensions~=4.0 in /usr/local/lib/python3.10/dist-packages (from gradio) (4.12.2)\n",
            "Requirement already satisfied: uvicorn>=0.14.0 in /usr/local/lib/python3.10/dist-packages (from gradio) (0.32.1)\n",
            "Requirement already satisfied: fsspec in /usr/local/lib/python3.10/dist-packages (from gradio-client==1.4.3->gradio) (2024.10.0)\n",
            "Requirement already satisfied: websockets<13.0,>=10.0 in /usr/local/lib/python3.10/dist-packages (from gradio-client==1.4.3->gradio) (12.0)\n",
            "Requirement already satisfied: idna>=2.8 in /usr/local/lib/python3.10/dist-packages (from anyio<5.0,>=3.0->gradio) (3.10)\n",
            "Requirement already satisfied: sniffio>=1.1 in /usr/local/lib/python3.10/dist-packages (from anyio<5.0,>=3.0->gradio) (1.3.1)\n",
            "Requirement already satisfied: exceptiongroup in /usr/local/lib/python3.10/dist-packages (from anyio<5.0,>=3.0->gradio) (1.2.2)\n",
            "Requirement already satisfied: certifi in /usr/local/lib/python3.10/dist-packages (from httpx>=0.24.1->gradio) (2024.8.30)\n",
            "Requirement already satisfied: httpcore==1.* in /usr/local/lib/python3.10/dist-packages (from httpx>=0.24.1->gradio) (1.0.7)\n",
            "Requirement already satisfied: h11<0.15,>=0.13 in /usr/local/lib/python3.10/dist-packages (from httpcore==1.*->httpx>=0.24.1->gradio) (0.14.0)\n",
            "Requirement already satisfied: filelock in /usr/local/lib/python3.10/dist-packages (from huggingface-hub>=0.25.1->gradio) (3.16.1)\n",
            "Requirement already satisfied: requests in /usr/local/lib/python3.10/dist-packages (from huggingface-hub>=0.25.1->gradio) (2.32.3)\n",
            "Requirement already satisfied: tqdm>=4.42.1 in /usr/local/lib/python3.10/dist-packages (from huggingface-hub>=0.25.1->gradio) (4.66.6)\n",
            "Requirement already satisfied: python-dateutil>=2.8.2 in /usr/local/lib/python3.10/dist-packages (from pandas<3.0,>=1.0->gradio) (2.8.2)\n",
            "Requirement already satisfied: pytz>=2020.1 in /usr/local/lib/python3.10/dist-packages (from pandas<3.0,>=1.0->gradio) (2024.2)\n",
            "Requirement already satisfied: tzdata>=2022.7 in /usr/local/lib/python3.10/dist-packages (from pandas<3.0,>=1.0->gradio) (2024.2)\n",
            "Requirement already satisfied: annotated-types>=0.6.0 in /usr/local/lib/python3.10/dist-packages (from pydantic>=2.0->gradio) (0.7.0)\n",
            "Requirement already satisfied: pydantic-core==2.23.4 in /usr/local/lib/python3.10/dist-packages (from pydantic>=2.0->gradio) (2.23.4)\n",
            "Requirement already satisfied: click>=8.0.0 in /usr/local/lib/python3.10/dist-packages (from typer<1.0,>=0.12->gradio) (8.1.7)\n",
            "Requirement already satisfied: shellingham>=1.3.0 in /usr/local/lib/python3.10/dist-packages (from typer<1.0,>=0.12->gradio) (1.5.4)\n",
            "Requirement already satisfied: rich>=10.11.0 in /usr/local/lib/python3.10/dist-packages (from typer<1.0,>=0.12->gradio) (13.9.4)\n",
            "Requirement already satisfied: six>=1.5 in /usr/local/lib/python3.10/dist-packages (from python-dateutil>=2.8.2->pandas<3.0,>=1.0->gradio) (1.16.0)\n",
            "Requirement already satisfied: markdown-it-py>=2.2.0 in /usr/local/lib/python3.10/dist-packages (from rich>=10.11.0->typer<1.0,>=0.12->gradio) (3.0.0)\n",
            "Requirement already satisfied: pygments<3.0.0,>=2.13.0 in /usr/local/lib/python3.10/dist-packages (from rich>=10.11.0->typer<1.0,>=0.12->gradio) (2.18.0)\n",
            "Requirement already satisfied: charset-normalizer<4,>=2 in /usr/local/lib/python3.10/dist-packages (from requests->huggingface-hub>=0.25.1->gradio) (3.4.0)\n",
            "Requirement already satisfied: urllib3<3,>=1.21.1 in /usr/local/lib/python3.10/dist-packages (from requests->huggingface-hub>=0.25.1->gradio) (2.2.3)\n",
            "Requirement already satisfied: mdurl~=0.1 in /usr/local/lib/python3.10/dist-packages (from markdown-it-py>=2.2.0->rich>=10.11.0->typer<1.0,>=0.12->gradio) (0.1.2)\n"
          ]
        }
      ]
    },
    {
      "cell_type": "code",
      "source": [
        "import requests\n",
        "import base64\n",
        "from moviepy.video.io.VideoFileClip import VideoFileClip\n",
        "from PIL import Image\n",
        "from io import BytesIO\n",
        "import gradio as gr\n",
        "\n",
        "\n",
        "API_URL = \"https://ai.api.nvidia.com/v1/vlm/nvidia/neva-22b\"\n",
        "API_KEY = \"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\"\n",
        "\n",
        "\n",
        "\n",
        "def extract_frames(video_path, num_frames=16):\n",
        "    video_clip = VideoFileClip(video_path)\n",
        "    duration = video_clip.duration\n",
        "    return [\n",
        "        Image.fromarray(video_clip.get_frame((i / num_frames) * duration))\n",
        "        for i in range(num_frames)\n",
        "    ]\n",
        "\n",
        "\n",
        "# convertig the image frame to Base64-encoded string\n",
        "\n",
        "def frame_to_base64(image_frame):\n",
        "    buffer = BytesIO()\n",
        "    image_frame.save(buffer, format=\"PNG\")\n",
        "    return base64.b64encode(buffer.getvalue()).decode(\"utf-8\")\n",
        "\n",
        "\n",
        "\n",
        "def query_action_detection(encoded_image, activity_description): #querying NVIDIA API\n",
        "    headers = {\n",
        "        \"Authorization\": f\"Bearer {API_KEY}\",\n",
        "        \"Accept\": \"application/json\",\n",
        "    }\n",
        "    payload = {\n",
        "        \"messages\": [\n",
        "            {\n",
        "                \"role\": \"user\",\n",
        "                \"content\": (\n",
        "                    f'Do you see someone performing \"{activity_description}\" in this image? '\n",
        "                    f'<img src=\"data:image/png;base64,{encoded_image}\" />'\n",
        "                ),\n",
        "            }\n",
        "        ],\n",
        "        \"max_tokens\": 1024,\n",
        "        \"temperature\": 0.2,\n",
        "        \"top_p\": 0.7,\n",
        "        \"seed\": 0,\n",
        "        \"stream\": False,\n",
        "    }\n",
        "\n",
        "    response = requests.post(API_URL, headers=headers, json=payload)\n",
        "    response_data = response.json()\n",
        "\n",
        "    return \"yes\" in response_data.get(\"choices\", [{}])[0].get(\"message\", {}).get(\"content\", \"\").lower()\n",
        "\n",
        "\n",
        "\n",
        "\n",
        "def compute_detection_accuracy(frames, activity_description):\n",
        "    detected_count = 0\n",
        "    for frame in frames:\n",
        "        encoded_frame = frame_to_base64(frame)\n",
        "        if query_action_detection(encoded_frame, activity_description):\n",
        "            detected_count += 1\n",
        "    return (detected_count / len(frames)) * 100\n",
        "\n",
        "\n",
        "\n",
        "def process_videos(video1_path, video2_path, action):\n",
        "    try:\n",
        "\n",
        "        frames_video1 = extract_frames(video1_path)\n",
        "        frames_video2 = extract_frames(video2_path)\n",
        "\n",
        "\n",
        "        accuracy_video1 = compute_detection_accuracy(frames_video1, action)\n",
        "        accuracy_video2 = compute_detection_accuracy(frames_video2, action)\n",
        "\n",
        "        return (\n",
        "            f\"Detection Accuracy for Synthetic Video: {accuracy_video1:.2f}%\",\n",
        "            f\"Detection Accuracy for Real Video: {accuracy_video2:.2f}%\",\n",
        "        )\n",
        "    except Exception as e:\n",
        "        return f\"Error processing videos: {str(e)}\", None\n",
        "\n",
        "\n",
        "\n",
        "def build_interface():\n",
        "    with gr.Blocks() as app:\n",
        "        gr.Markdown(\"### Compare Action Detection in Videos\")\n",
        "\n",
        "        with gr.Row():\n",
        "            video1_input = gr.Video(label=\"Upload Synthetic Video\")\n",
        "            video2_input = gr.Video(label=\"Upload Real Video\")\n",
        "            action_input = gr.Textbox(label=\"Enter the Action (e.g., jumping, running)\")\n",
        "\n",
        "        results_synthetic = gr.Textbox(label=\"Synthetic Video Analysis\")\n",
        "        results_real = gr.Textbox(label=\"Real Video Analysis\")\n",
        "\n",
        "        submit_button = gr.Button(\"Analyze Videos\")\n",
        "\n",
        "        submit_button.click(\n",
        "            fn=process_videos,\n",
        "            inputs=[video1_input, video2_input, action_input],\n",
        "            outputs=[results_synthetic, results_real],\n",
        "        )\n",
        "\n",
        "    return app\n",
        "\n",
        "\n",
        "if __name__ == \"__main__\":\n",
        "    build_interface().launch()\n"
      ],
      "metadata": {
        "colab": {
          "base_uri": "https://localhost:8080/",
          "height": 645
        },
        "id": "844WE0uD_z--",
        "outputId": "0f487fb5-1352-42af-a664-10efc830f78f"
      },
      "execution_count": null,
      "outputs": [
        {
          "output_type": "stream",
          "name": "stdout",
          "text": [
            "Running Gradio in a Colab notebook requires sharing enabled. Automatically setting `share=True` (you can turn this off by setting `share=False` in `launch()` explicitly).\n",
            "\n",
            "Colab notebook detected. To show errors in colab notebook, set debug=True in launch()\n",
            "* Running on public URL: https://9920ad2e4f601c0e5d.gradio.live\n",
            "\n",
            "This share link expires in 72 hours. For free permanent hosting and GPU upgrades, run `gradio deploy` from the terminal in the working directory to deploy to Hugging Face Spaces (https://huggingface.co/spaces)\n"
          ]
        },
        {
          "output_type": "display_data",
          "data": {
            "text/plain": [
              "<IPython.core.display.HTML object>"
            ],
            "text/html": [
              "<div><iframe src=\"https://9920ad2e4f601c0e5d.gradio.live\" width=\"100%\" height=\"500\" allow=\"autoplay; camera; microphone; clipboard-read; clipboard-write;\" frameborder=\"0\" allowfullscreen></iframe></div>"
            ]
          },
          "metadata": {}
        }
      ]
    },
    {
      "cell_type": "code",
      "source": [],
      "metadata": {
        "id": "UxM7Xsh9_2Uq"
      },
      "execution_count": null,
      "outputs": []
    }
  ]
}